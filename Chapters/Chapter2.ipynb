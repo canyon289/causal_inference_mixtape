{
 "cells": [
  {
   "cell_type": "markdown",
   "id": "graduate-general",
   "metadata": {},
   "source": [
    "# Statistics and Probability Review"
   ]
  },
  {
   "cell_type": "code",
   "execution_count": 13,
   "id": "directed-voice",
   "metadata": {},
   "outputs": [],
   "source": [
    "from scipy import stats\n",
    "import matplotlib.pyplot as plt\n",
    "import statsmodels.api as sm\n",
    "import numpy as np\n",
    "import pandas as pd"
   ]
  },
  {
   "cell_type": "markdown",
   "id": "equivalent-strap",
   "metadata": {},
   "source": [
    "# OLS.r"
   ]
  },
  {
   "cell_type": "code",
   "execution_count": null,
   "id": "known-joint",
   "metadata": {},
   "outputs": [],
   "source": [
    "library(tidyverse)\n",
    "\n",
    "set.seed(1)\n",
    "tb <- tibble(\n",
    "  x = rnorm(10000),\n",
    "  u = rnorm(10000),\n",
    "  y = 5.5*x + 12*u\n",
    ") \n",
    "\n",
    "reg_tb <- tb %>% \n",
    "  lm(y ~ x, .) %>%\n",
    "  print()\n",
    "\n",
    "reg_tb$coefficients\n",
    "\n",
    "tb <- tb %>% \n",
    "  mutate(\n",
    "    yhat1 = predict(lm(y ~ x, .)),\n",
    "    yhat2 = 0.0732608 + 5.685033*x, \n",
    "    uhat1 = residuals(lm(y ~ x, .)),\n",
    "    uhat2 = y - yhat2\n",
    "  )\n",
    "\n",
    "summary(tb[-1:-3])\n",
    "\n",
    "tb %>% \n",
    "  lm(y ~ x, .) %>% \n",
    "  ggplot(aes(x=x, y=y)) + \n",
    "  ggtitle(\"OLS Regression Line\") +\n",
    "  geom_point(size = 0.05, color = \"black\", alpha = 0.5) +\n",
    "  geom_smooth(method = lm, color = \"black\") +\n",
    "  annotate(\"text\", x = -1.5, y = 30, color = \"red\", \n",
    "           label = paste(\"Intercept = \", -0.0732608)) +\n",
    "  annotate(\"text\", x = 1.5, y = -30, color = \"blue\", \n",
    "           label = paste(\"Slope =\", 5.685033))"
   ]
  },
  {
   "cell_type": "code",
   "execution_count": 9,
   "id": "transsexual-recording",
   "metadata": {},
   "outputs": [
    {
     "data": {
      "text/html": [
       "<div>\n",
       "<style scoped>\n",
       "    .dataframe tbody tr th:only-of-type {\n",
       "        vertical-align: middle;\n",
       "    }\n",
       "\n",
       "    .dataframe tbody tr th {\n",
       "        vertical-align: top;\n",
       "    }\n",
       "\n",
       "    .dataframe thead th {\n",
       "        text-align: right;\n",
       "    }\n",
       "</style>\n",
       "<table border=\"1\" class=\"dataframe\">\n",
       "  <thead>\n",
       "    <tr style=\"text-align: right;\">\n",
       "      <th></th>\n",
       "      <th>x</th>\n",
       "      <th>u</th>\n",
       "      <th>y</th>\n",
       "    </tr>\n",
       "  </thead>\n",
       "  <tbody>\n",
       "    <tr>\n",
       "      <th>0</th>\n",
       "      <td>1.624345</td>\n",
       "      <td>-0.122474</td>\n",
       "      <td>7.464213</td>\n",
       "    </tr>\n",
       "    <tr>\n",
       "      <th>1</th>\n",
       "      <td>-0.611756</td>\n",
       "      <td>0.228170</td>\n",
       "      <td>-0.626622</td>\n",
       "    </tr>\n",
       "    <tr>\n",
       "      <th>2</th>\n",
       "      <td>-0.528172</td>\n",
       "      <td>-0.352305</td>\n",
       "      <td>-7.132606</td>\n",
       "    </tr>\n",
       "    <tr>\n",
       "      <th>3</th>\n",
       "      <td>-1.072969</td>\n",
       "      <td>-0.830553</td>\n",
       "      <td>-15.867969</td>\n",
       "    </tr>\n",
       "    <tr>\n",
       "      <th>4</th>\n",
       "      <td>0.865408</td>\n",
       "      <td>-0.261090</td>\n",
       "      <td>1.626664</td>\n",
       "    </tr>\n",
       "  </tbody>\n",
       "</table>\n",
       "</div>"
      ],
      "text/plain": [
       "          x         u          y\n",
       "0  1.624345 -0.122474   7.464213\n",
       "1 -0.611756  0.228170  -0.626622\n",
       "2 -0.528172 -0.352305  -7.132606\n",
       "3 -1.072969 -0.830553 -15.867969\n",
       "4  0.865408 -0.261090   1.626664"
      ]
     },
     "execution_count": 9,
     "metadata": {},
     "output_type": "execute_result"
    }
   ],
   "source": [
    "np.random.seed(1)\n",
    "x = stats.norm().rvs(10000)\n",
    "u = stats.norm().rvs(10000)\n",
    "y = 5.5*x + 12*u\n",
    "df = pd.DataFrame({\"x\":x, \"u\":u, \"y\":y})\n",
    "df.head()"
   ]
  },
  {
   "cell_type": "code",
   "execution_count": 15,
   "id": "affecting-tuner",
   "metadata": {},
   "outputs": [
    {
     "data": {
      "text/plain": [
       "const    0.111381\n",
       "x        5.688663\n",
       "dtype: float64"
      ]
     },
     "execution_count": 15,
     "metadata": {},
     "output_type": "execute_result"
    }
   ],
   "source": [
    "x = df[\"x\"]\n",
    "Y= df[\"y\"]\n",
    "X = sm.add_constant(x)\n",
    "model = sm.OLS(Y,X)\n",
    "results = model.fit()\n",
    "results.params"
   ]
  },
  {
   "cell_type": "code",
   "execution_count": 30,
   "id": "narrow-laptop",
   "metadata": {},
   "outputs": [
    {
     "data": {
      "text/plain": [
       "0       -1.887522\n",
       "1        2.742073\n",
       "2       -4.239396\n",
       "3       -9.875593\n",
       "4       -3.407730\n",
       "          ...    \n",
       "9995   -11.443647\n",
       "9996     9.182932\n",
       "9997    28.981156\n",
       "9998    10.493874\n",
       "9999    -1.035264\n",
       "Length: 10000, dtype: float64"
      ]
     },
     "execution_count": 30,
     "metadata": {},
     "output_type": "execute_result"
    }
   ],
   "source": [
    "results.resid"
   ]
  },
  {
   "cell_type": "code",
   "execution_count": 35,
   "id": "moved-westminster",
   "metadata": {},
   "outputs": [
    {
     "data": {
      "text/plain": [
       "array([ 9.35173497, -3.368695  , -2.89321001, ..., -5.65774142,\n",
       "       -0.2452765 , -8.06817638])"
      ]
     },
     "execution_count": 35,
     "metadata": {},
     "output_type": "execute_result"
    }
   ],
   "source": [
    "yhat1 = model.predict(results.params, X)\n",
    "yhat1"
   ]
  },
  {
   "cell_type": "code",
   "execution_count": 39,
   "id": "liable-intervention",
   "metadata": {},
   "outputs": [
    {
     "data": {
      "text/plain": [
       "0       9.351735\n",
       "1      -3.368695\n",
       "2      -2.893210\n",
       "3      -5.992376\n",
       "4       5.034394\n",
       "          ...   \n",
       "9995    0.526418\n",
       "9996    2.893719\n",
       "9997   -5.657741\n",
       "9998   -0.245276\n",
       "9999   -8.068176\n",
       "Name: x, Length: 10000, dtype: float64"
      ]
     },
     "execution_count": 39,
     "metadata": {},
     "output_type": "execute_result"
    }
   ],
   "source": [
    "yhat2 = results.params[\"const\"]+df[\"x\"]*results.params[\"x\"]\n",
    "yhat2"
   ]
  },
  {
   "cell_type": "code",
   "execution_count": 41,
   "id": "renewable-salmon",
   "metadata": {},
   "outputs": [
    {
     "data": {
      "text/plain": [
       "0       -1.887522\n",
       "1        2.742073\n",
       "2       -4.239396\n",
       "3       -9.875593\n",
       "4       -3.407730\n",
       "          ...    \n",
       "9995   -11.443647\n",
       "9996     9.182932\n",
       "9997    28.981156\n",
       "9998    10.493874\n",
       "9999    -1.035264\n",
       "Length: 10000, dtype: float64"
      ]
     },
     "execution_count": 41,
     "metadata": {},
     "output_type": "execute_result"
    }
   ],
   "source": [
    "uhat1 = results.resid\n",
    "uhat1"
   ]
  },
  {
   "cell_type": "code",
   "execution_count": 42,
   "id": "departmental-dietary",
   "metadata": {},
   "outputs": [
    {
     "data": {
      "text/plain": [
       "0       -1.887522\n",
       "1        2.742073\n",
       "2       -4.239396\n",
       "3       -9.875593\n",
       "4       -3.407730\n",
       "          ...    \n",
       "9995   -11.443647\n",
       "9996     9.182932\n",
       "9997    28.981156\n",
       "9998    10.493874\n",
       "9999    -1.035264\n",
       "Length: 10000, dtype: float64"
      ]
     },
     "execution_count": 42,
     "metadata": {},
     "output_type": "execute_result"
    }
   ],
   "source": [
    "uhat2 = df[\"y\"] - yhat2\n",
    "uhat2"
   ]
  },
  {
   "cell_type": "code",
   "execution_count": 54,
   "id": "controversial-davis",
   "metadata": {},
   "outputs": [
    {
     "data": {
      "text/plain": [
       "[<matplotlib.lines.Line2D at 0x16bad7c70>]"
      ]
     },
     "execution_count": 54,
     "metadata": {},
     "output_type": "execute_result"
    },
    {
     "data": {
      "image/png": "[encoded data removed]",
      "text/plain": [
       "<Figure size 432x288 with 1 Axes>"
      ]
     },
     "metadata": {
      "needs_background": "light"
     },
     "output_type": "display_data"
    }
   ],
   "source": [
    "fig, ax = plt.subplots()\n",
    "ax.scatter(df[\"x\"], df[\"y\"], alpha=.5, s=.5)\n",
    "\n",
    "x_grid = np.linspace(df[\"x\"].min(), df[\"x\"].max())\n",
    "ax.plot(x_grid, results.params[\"const\"]+x_grid*results.params[\"x\"], c=\"black\")\n"
   ]
  },
  {
   "cell_type": "code",
   "execution_count": null,
   "id": "continental-taxation",
   "metadata": {},
   "outputs": [],
   "source": []
  }
 ],
 "metadata": {
  "kernelspec": {
   "display_name": "Python 3",
   "language": "python",
   "name": "python3"
  },
  "language_info": {
   "codemirror_mode": {
    "name": "ipython",
    "version": 3
   },
   "file_extension": ".py",
   "mimetype": "text/x-python",
   "name": "python",
   "nbconvert_exporter": "python",
   "pygments_lexer": "ipython3",
   "version": "3.9.2"
  }
 },
 "nbformat": 4,
 "nbformat_minor": 5
}
